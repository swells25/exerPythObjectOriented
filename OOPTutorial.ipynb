{
 "cells": [
  {
   "cell_type": "code",
   "execution_count": 1,
   "source": [
    "# Video 1 \r\n",
    "\r\n",
    "class Employee:\r\n",
    "    pass\r\n",
    "\r\n",
    "emp_1 = Employee()\r\n",
    "emp_2 = Employee()\r\n",
    "\r\n",
    "print(emp_1)\r\n",
    "print(emp_2)"
   ],
   "outputs": [
    {
     "output_type": "stream",
     "name": "stdout",
     "text": [
      "<__main__.Employee object at 0x000002D3DD4F8C70>\n",
      "<__main__.Employee object at 0x000002D3DD4F85B0>\n"
     ]
    }
   ],
   "metadata": {}
  },
  {
   "cell_type": "code",
   "execution_count": 2,
   "source": [
    "class Employee:\r\n",
    "    pass\r\n",
    "\r\n",
    "emp_1 = Employee()\r\n",
    "emp_2 = Employee()\r\n",
    "\r\n",
    "print(emp_1)\r\n",
    "print(emp_2)\r\n",
    "\r\n",
    "emp_1.first = 'Stacy'\r\n",
    "emp_1.last = 'Wells'\r\n",
    "emp_1.email = 'Stacy.Wells@company.com'\r\n",
    "emp_1.pay = 50000\r\n",
    "\r\n",
    "emp_2.first = 'Test'\r\n",
    "emp_2.last = 'User'\r\n",
    "emp_2.email = 'Test.User@company.com'\r\n",
    "emp_2.pay = 60000\r\n",
    "\r\n",
    "print(emp_1.email) \r\n",
    "print(emp_2.email)"
   ],
   "outputs": [
    {
     "output_type": "stream",
     "name": "stdout",
     "text": [
      "<__main__.Employee object at 0x000002D3DD4F8F10>\n",
      "<__main__.Employee object at 0x000002D3DD4F8F70>\n",
      "Stacy.Wells@company.com\n",
      "Test.User@company.com\n"
     ]
    }
   ],
   "metadata": {}
  },
  {
   "cell_type": "code",
   "execution_count": 5,
   "source": [
    "class Employee:\r\n",
    "    def __init__(self, first, last, pay):\r\n",
    "        self.first = first\r\n",
    "        self.last = last\r\n",
    "        self.pay = pay\r\n",
    "        self.email = first +'.' + last + '@compay.com'\r\n",
    "\r\n",
    "emp_1 = Employee('Stacy', 'Wells', 50000)\r\n",
    "emp_2 = Employee('Test', 'User', 60000)\r\n",
    "\r\n",
    "#print(emp_1)\r\n",
    "#print(emp_2)\r\n",
    "\r\n",
    "\r\n",
    "print(emp_1.email) \r\n",
    "print(emp_2.email)"
   ],
   "outputs": [
    {
     "output_type": "stream",
     "name": "stdout",
     "text": [
      "Stacy.Wells@compay.com\n",
      "Test.User@compay.com\n"
     ]
    }
   ],
   "metadata": {}
  },
  {
   "cell_type": "code",
   "execution_count": 6,
   "source": [
    "class Employee:\r\n",
    "    def __init__(self, first, last, pay):\r\n",
    "        self.first = first\r\n",
    "        self.last = last\r\n",
    "        self.pay = pay\r\n",
    "        self.email = first +'.' + last + '@compay.com'\r\n",
    "\r\n",
    "    def fullname(self):\r\n",
    "        return '{} {}' .format(self.first, self.last)    \r\n",
    "\r\n",
    "emp_1 = Employee('Stacy', 'Wells', 50000)\r\n",
    "emp_2 = Employee('Test', 'User', 60000)\r\n",
    "\r\n",
    "#print(emp_1)\r\n",
    "#print(emp_2)\r\n",
    "\r\n",
    "\r\n",
    "print(emp_1.email) \r\n",
    "print(emp_2.email)\r\n",
    "\r\n",
    "print(emp_1.fullname())\r\n",
    "\r\n",
    "\r\n",
    "\r\n",
    "\r\n"
   ],
   "outputs": [
    {
     "output_type": "stream",
     "name": "stdout",
     "text": [
      "Stacy.Wells@compay.com\n",
      "Test.User@compay.com\n",
      "Stacy Wells\n"
     ]
    }
   ],
   "metadata": {}
  },
  {
   "cell_type": "code",
   "execution_count": 7,
   "source": [
    "class Employee:\r\n",
    "    def __init__(self, first, last, pay):\r\n",
    "        self.first = first\r\n",
    "        self.last = last\r\n",
    "        self.pay = pay\r\n",
    "        self.email = first +'.' + last + '@compay.com'\r\n",
    "\r\n",
    "    def fullname(self):\r\n",
    "        return '{} {}' .format(self.first, self.last)    \r\n",
    "\r\n",
    "emp_1 = Employee('Stacy', 'Wells', 50000)\r\n",
    "emp_2 = Employee('Test', 'User', 60000)\r\n",
    "\r\n",
    "\r\n",
    "#print(emp_1.fullname())\r\n",
    "print(Employee.fullname(emp_1))\r\n"
   ],
   "outputs": [
    {
     "output_type": "stream",
     "name": "stdout",
     "text": [
      "Stacy Wells\n"
     ]
    }
   ],
   "metadata": {}
  },
  {
   "cell_type": "code",
   "execution_count": 1,
   "source": [
    "#video 2 Start \r\n",
    "\r\n",
    "class Employee:\r\n",
    "    def __init__(self, first, last, pay):\r\n",
    "        self.first = first\r\n",
    "        self.last = last\r\n",
    "        self.pay = pay\r\n",
    "        self.email = first +'.' + last + '@compay.com'\r\n",
    "\r\n",
    "    def fullname(self):\r\n",
    "        return '{} {}' .format(self.first, self.last)  \r\n",
    "    \r\n",
    "    def apply_raise(self):\r\n",
    "        self.pay = int(self.pay * 1.04)  \r\n",
    "\r\n",
    "emp_1 = Employee('Stacy', 'Wells', 50000)\r\n",
    "emp_2 = Employee('Test', 'User', 60000)\r\n",
    "\r\n",
    "print(emp_1.pay)\r\n",
    "emp_1.apply_raise()\r\n",
    "print(emp_1.pay)\r\n",
    "\r\n"
   ],
   "outputs": [
    {
     "output_type": "stream",
     "name": "stdout",
     "text": [
      "50000\n",
      "52000\n"
     ]
    }
   ],
   "metadata": {}
  },
  {
   "cell_type": "code",
   "execution_count": 4,
   "source": [
    "class Employee:\r\n",
    "\r\n",
    "    raise_amount = 1.04\r\n",
    "\r\n",
    "    def __init__(self, first, last, pay):\r\n",
    "        self.first = first\r\n",
    "        self.last = last\r\n",
    "        self.pay = pay\r\n",
    "        self.email = first +'.' + last + '@compay.com'\r\n",
    "\r\n",
    "    def fullname(self):\r\n",
    "        return '{} {}' .format(self.first, self.last)  \r\n",
    "    \r\n",
    "    def apply_raise(self):\r\n",
    "        self.pay = int(self.pay * Employee.raise_amount)  \r\n",
    "\r\n",
    "emp_1 = Employee('Stacy', 'Wells', 50000)\r\n",
    "emp_2 = Employee('Test', 'User', 60000)\r\n",
    "\r\n",
    "#print(Employee.raise_amount)\r\n",
    "#print(emp_1.raise_amount)\r\n",
    "#print(emp_2.raise_amount)\r\n",
    "\r\n",
    "\r\n",
    "\r\n"
   ],
   "outputs": [
    {
     "output_type": "stream",
     "name": "stdout",
     "text": [
      "1.04\n",
      "1.04\n",
      "1.04\n"
     ]
    }
   ],
   "metadata": {}
  },
  {
   "cell_type": "code",
   "execution_count": 6,
   "source": [
    "class Employee:\r\n",
    "\r\n",
    "    raise_amount = 1.04\r\n",
    "\r\n",
    "    def __init__(self, first, last, pay):\r\n",
    "        self.first = first\r\n",
    "        self.last = last\r\n",
    "        self.pay = pay\r\n",
    "        self.email = first +'.' + last + '@compay.com'\r\n",
    "\r\n",
    "    def fullname(self):\r\n",
    "        return '{} {}' .format(self.first, self.last)  \r\n",
    "    \r\n",
    "    def apply_raise(self):\r\n",
    "        self.pay = int(self.pay * Employee.raise_amount)  \r\n",
    "\r\n",
    "emp_1 = Employee('Stacy', 'Wells', 50000)\r\n",
    "emp_2 = Employee('Test', 'User', 60000)\r\n",
    "\r\n",
    "Employee.raise_amount = 1.05\r\n",
    "\r\n",
    "print(Employee.raise_amount)\r\n",
    "print(emp_1.raise_amount)\r\n",
    "print(emp_2.raise_amount)\r\n"
   ],
   "outputs": [
    {
     "output_type": "stream",
     "name": "stdout",
     "text": [
      "1.05\n",
      "1.05\n",
      "1.05\n"
     ]
    }
   ],
   "metadata": {}
  },
  {
   "cell_type": "code",
   "execution_count": 8,
   "source": [
    "class Employee:\r\n",
    "\r\n",
    "    raise_amount = 1.04\r\n",
    "\r\n",
    "    def __init__(self, first, last, pay):\r\n",
    "        self.first = first\r\n",
    "        self.last = last\r\n",
    "        self.pay = pay\r\n",
    "        self.email = first +'.' + last + '@compay.com'\r\n",
    "\r\n",
    "    def fullname(self):\r\n",
    "        return '{} {}' .format(self.first, self.last)  \r\n",
    "    \r\n",
    "    def apply_raise(self):\r\n",
    "        self.pay = int(self.pay * Employee.raise_amount)  \r\n",
    "\r\n",
    "emp_1 = Employee('Stacy', 'Wells', 50000)\r\n",
    "emp_2 = Employee('Test', 'User', 60000)\r\n",
    "\r\n",
    "emp_1.raise_amount = 1.05\r\n",
    "\r\n",
    "print(emp_1.__dict__)\r\n",
    "\r\n",
    "print(Employee.raise_amount)\r\n",
    "print(emp_1.raise_amount)\r\n",
    "print(emp_2.raise_amount)"
   ],
   "outputs": [
    {
     "output_type": "stream",
     "name": "stdout",
     "text": [
      "{'first': 'Stacy', 'last': 'Wells', 'pay': 50000, 'email': 'Stacy.Wells@compay.com', 'raise_amount': 1.05}\n",
      "1.04\n",
      "1.05\n",
      "1.04\n"
     ]
    }
   ],
   "metadata": {}
  },
  {
   "cell_type": "code",
   "execution_count": 9,
   "source": [
    "class Employee:\r\n",
    "    num_of_emps = 0\r\n",
    "    raise_amount = 1.04\r\n",
    "\r\n",
    "    def __init__(self, first, last, pay):\r\n",
    "        self.first = first\r\n",
    "        self.last = last\r\n",
    "        self.pay = pay\r\n",
    "        self.email = first +'.' + last + '@compay.com'\r\n",
    "\r\n",
    "        Employee.num_of_emps += 1\r\n",
    "\r\n",
    "    def fullname(self):\r\n",
    "        return '{} {}' .format(self.first, self.last)  \r\n",
    "    \r\n",
    "    def apply_raise(self):\r\n",
    "        self.pay = int(self.pay * Employee.raise_amount)  \r\n",
    "\r\n",
    "emp_1 = Employee('Stacy', 'Wells', 50000)\r\n",
    "emp_2 = Employee('Test', 'User', 60000)\r\n",
    "\r\n",
    "print(Employee.num_of_emps)"
   ],
   "outputs": [
    {
     "output_type": "stream",
     "name": "stdout",
     "text": [
      "2\n"
     ]
    }
   ],
   "metadata": {}
  },
  {
   "cell_type": "code",
   "execution_count": 18,
   "source": [
    "#Videos #3 Start \r\n",
    "\r\n",
    "class Employee:\r\n",
    "    num_of_emps = 0\r\n",
    "    raise_amount = 1.05\r\n",
    "\r\n",
    "    def __init__(self, first, last, pay):\r\n",
    "        self.first = first\r\n",
    "        self.last = last\r\n",
    "        self.pay = pay\r\n",
    "        self.email = first +'.' + last + '@compay.com'\r\n",
    "\r\n",
    "        Employee.num_of_emps += 1\r\n",
    "\r\n",
    "    def fullname(self):\r\n",
    "        return '{} {}' .format(self.first, self.last)  \r\n",
    "    \r\n",
    "    def apply_raise(self):\r\n",
    "        self.pay = int(self.pay * Employee.raise_amount)  \r\n",
    "    \r\n",
    "    @classmethod\r\n",
    "    def set_raise_amt(cls, amount):\r\n",
    "        cls.raise_amt = amount\r\n",
    "\r\n",
    "emp_1 = Employee('Stacy', 'Wells', 50000)\r\n",
    "emp_2 = Employee('Test', 'User', 60000)\r\n",
    "\r\n",
    "emp_1.set_raise_amt(1.05)\r\n",
    "\r\n",
    "\r\n",
    "print(Employee.raise_amount)\r\n",
    "print(emp_1.raise_amount)\r\n",
    "print(emp_2.raise_amount)\r\n"
   ],
   "outputs": [
    {
     "output_type": "stream",
     "name": "stdout",
     "text": [
      "1.05\n",
      "1.05\n",
      "1.05\n"
     ]
    }
   ],
   "metadata": {}
  },
  {
   "cell_type": "code",
   "execution_count": 22,
   "source": [
    "class Employee:\r\n",
    "    num_of_emps = 0\r\n",
    "    raise_amount = 1.05\r\n",
    "\r\n",
    "    def __init__(self, first, last, pay):\r\n",
    "        self.first = first\r\n",
    "        self.last = last\r\n",
    "        self.pay = pay\r\n",
    "        self.email = first +'.' + last + '@compay.com'\r\n",
    "\r\n",
    "        Employee.num_of_emps += 1\r\n",
    "\r\n",
    "    def fullname(self):\r\n",
    "        return '{} {}' .format(self.first, self.last)  \r\n",
    "    \r\n",
    "    def apply_raise(self):\r\n",
    "        self.pay = int(self.pay * Employee.raise_amount)  \r\n",
    "    \r\n",
    "    @classmethod\r\n",
    "    def set_raise_amt(cls, amount):\r\n",
    "        cls.raise_amt = amount\r\n",
    "\r\n",
    "emp_1 = Employee('Stacy', 'Wells', 50000)\r\n",
    "emp_2 = Employee('Test', 'User', 60000)\r\n",
    "\r\n",
    "emp_str_1 = 'John-Doe-70000'\r\n",
    "emp_str_2 = 'Steve-Smith-30000'\r\n",
    "empt_str_3 = 'Jane-Doe-90000'\r\n",
    "\r\n",
    "first, last, pay = emp_str_1.split('-')\r\n",
    "\r\n",
    "new_emp_1 = Employee(first, last, pay)\r\n",
    "\r\n",
    "print(new_emp_1.email)\r\n",
    "print(new_emp_1.pay)"
   ],
   "outputs": [
    {
     "output_type": "stream",
     "name": "stdout",
     "text": [
      "John.Doe@compay.com\n",
      "70000\n"
     ]
    }
   ],
   "metadata": {}
  },
  {
   "cell_type": "code",
   "execution_count": 30,
   "source": [
    "class Employee:\r\n",
    "    num_of_emps = 0\r\n",
    "    raise_amount = 1.05\r\n",
    "\r\n",
    "    def __init__(self, first, last, pay):\r\n",
    "        self.first = first\r\n",
    "        self.last = last\r\n",
    "        self.pay = pay\r\n",
    "        self.email = first +'.' + last + '@compay.com'\r\n",
    "\r\n",
    "        Employee.num_of_emps += 1\r\n",
    "\r\n",
    "    def fullname(self):\r\n",
    "        return '{} {}' .format(self.first, self.last)  \r\n",
    "    \r\n",
    "    def apply_raise(self):\r\n",
    "        self.pay = int(self.pay * Employee.raise_amount)  \r\n",
    "    \r\n",
    "    @classmethod\r\n",
    "    def set_raise_amt(cls, amount):\r\n",
    "        cls.raise_amt = amount\r\n",
    "\r\n",
    "    @classmethod\r\n",
    "    def from_string(cls, emp_str):\r\n",
    "        first, last, pay = emp_str.split('-')\r\n",
    "        return cls(first, last, pay)\r\n",
    "\r\n",
    "emp_1 = Employee('Stacy', 'Wells', 50000)\r\n",
    "emp_2 = Employee('Test', 'User', 60000)\r\n",
    "\r\n",
    "emp_str_1 = 'John-Doe-70000'\r\n",
    "emp_str_2 = 'Steve-Smith-30000'\r\n",
    "empt_str_3 = 'Jane-Doe-90000'\r\n",
    "\r\n",
    "#first, last, pay = emp_str_1.split('-')\r\n",
    "\r\n",
    "new_emp_1 = Employee.from_string(emp_str_1)\r\n",
    "\r\n",
    "\r\n",
    "print(new_emp_1.email)\r\n",
    "print(new_emp_1.pay)"
   ],
   "outputs": [
    {
     "output_type": "stream",
     "name": "stdout",
     "text": [
      "John.Doe@compay.com\n",
      "70000\n"
     ]
    }
   ],
   "metadata": {}
  },
  {
   "cell_type": "code",
   "execution_count": 34,
   "source": [
    "class Employee:\r\n",
    "    num_of_emps = 0\r\n",
    "    raise_amount = 1.05\r\n",
    "\r\n",
    "    def __init__(self, first, last, pay):\r\n",
    "        self.first = first\r\n",
    "        self.last = last\r\n",
    "        self.pay = pay\r\n",
    "        self.email = first +'.' + last + '@compay.com'\r\n",
    "\r\n",
    "        Employee.num_of_emps += 1\r\n",
    "\r\n",
    "    def fullname(self):\r\n",
    "        return '{} {}' .format(self.first, self.last)  \r\n",
    "    \r\n",
    "    def apply_raise(self):\r\n",
    "        self.pay = int(self.pay * Employee.raise_amount)  \r\n",
    "    \r\n",
    "    @classmethod\r\n",
    "    def set_raise_amt(cls, amount):\r\n",
    "        cls.raise_amt = amount\r\n",
    "\r\n",
    "    @classmethod\r\n",
    "    def from_string(cls, emp_str):\r\n",
    "        first, last, pay = emp_str.split('-')\r\n",
    "        return cls(first, last, pay)\r\n",
    "\r\n",
    "    @staticmethod\r\n",
    "    def is_workday(day):\r\n",
    "        if day.weekday() == 5 or day.weekday() == 6:\r\n",
    "            return False\r\n",
    "        return  True  \r\n",
    "\r\n",
    "emp_1 = Employee('Stacy', 'Wells', 50000)\r\n",
    "emp_2 = Employee('Test', 'User', 60000)\r\n",
    "\r\n",
    "\r\n",
    "import datetime\r\n",
    "my_date = datetime.date(2016, 7, 10)\r\n",
    "\r\n",
    "print(Employee.is_workday(my_date))"
   ],
   "outputs": [
    {
     "output_type": "stream",
     "name": "stdout",
     "text": [
      "False\n"
     ]
    }
   ],
   "metadata": {}
  },
  {
   "cell_type": "code",
   "execution_count": 36,
   "source": [
    "#Video 4 Start\r\n",
    "\r\n",
    "class Employee:\r\n",
    "\r\n",
    "    raise_amount = 1.04\r\n",
    "\r\n",
    "    def __init__(self, first, last, pay):\r\n",
    "        self.first = first\r\n",
    "        self.last = last\r\n",
    "        self.pay = pay\r\n",
    "        self.email = first +'.' + last + '@compay.com'\r\n",
    "\r\n",
    "    def fullname(self):\r\n",
    "        return '{} {}' .format(self.first, self.last)  \r\n",
    "    \r\n",
    "    def apply_raise(self):\r\n",
    "        self.pay = int(self.pay * self.raise_amount)  \r\n",
    "\r\n",
    "class Developer(Employee):\r\n",
    "    pass\r\n",
    "\r\n",
    "dev_1 = Developer('Stacy', 'Wells', 50000)\r\n",
    "dev_2 = Developer('Test', 'User', 60000)\r\n",
    "\r\n",
    "print(dev_1.email)\r\n",
    "print(dev_2.email)\r\n",
    "\r\n",
    "\r\n"
   ],
   "outputs": [
    {
     "output_type": "stream",
     "name": "stdout",
     "text": [
      "Stacy.Wells@compay.com\n",
      "Test.User@compay.com\n"
     ]
    }
   ],
   "metadata": {}
  },
  {
   "cell_type": "code",
   "execution_count": 39,
   "source": [
    "\r\n",
    "class Employee:\r\n",
    "\r\n",
    "    raise_amount = 1.04\r\n",
    "\r\n",
    "    def __init__(self, first, last, pay):\r\n",
    "        self.first = first\r\n",
    "        self.last = last\r\n",
    "        self.pay = pay\r\n",
    "        self.email = first +'.' + last + '@compay.com'\r\n",
    "\r\n",
    "    def fullname(self):\r\n",
    "        return '{} {}' .format(self.first, self.last)  \r\n",
    "    \r\n",
    "    def apply_raise(self):\r\n",
    "        self.pay = int(self.pay * self.raise_amount)  \r\n",
    "\r\n",
    "class Developer(Employee):\r\n",
    "    pass\r\n",
    "\r\n",
    "dev_1 = Developer('Stacy', 'Wells', 50000)\r\n",
    "dev_2 = Developer('Test', 'User', 60000)\r\n",
    "\r\n",
    "print(dev_1.email)\r\n",
    "print(dev_2.email)\r\n",
    "\r\n",
    "print(help( Developer))"
   ],
   "outputs": [
    {
     "output_type": "stream",
     "name": "stdout",
     "text": [
      "Stacy.Wells@compay.com\n",
      "Test.User@compay.com\n",
      "Help on class Developer in module __main__:\n",
      "\n",
      "class Developer(Employee)\n",
      " |  Developer(first, last, pay)\n",
      " |  \n",
      " |  Method resolution order:\n",
      " |      Developer\n",
      " |      Employee\n",
      " |      builtins.object\n",
      " |  \n",
      " |  Methods inherited from Employee:\n",
      " |  \n",
      " |  __init__(self, first, last, pay)\n",
      " |      Initialize self.  See help(type(self)) for accurate signature.\n",
      " |  \n",
      " |  apply_raise(self)\n",
      " |  \n",
      " |  fullname(self)\n",
      " |  \n",
      " |  ----------------------------------------------------------------------\n",
      " |  Data descriptors inherited from Employee:\n",
      " |  \n",
      " |  __dict__\n",
      " |      dictionary for instance variables (if defined)\n",
      " |  \n",
      " |  __weakref__\n",
      " |      list of weak references to the object (if defined)\n",
      " |  \n",
      " |  ----------------------------------------------------------------------\n",
      " |  Data and other attributes inherited from Employee:\n",
      " |  \n",
      " |  raise_amount = 1.04\n",
      "\n",
      "None\n"
     ]
    }
   ],
   "metadata": {}
  },
  {
   "cell_type": "code",
   "execution_count": 46,
   "source": [
    "class Employee:\r\n",
    "\r\n",
    "    raise_amt = 1.04\r\n",
    "\r\n",
    "    def __init__(self, first, last, pay):\r\n",
    "        self.first = first\r\n",
    "        self.last = last\r\n",
    "        self.pay = pay\r\n",
    "        self.email = first +'.' + last + '@compay.com'\r\n",
    "\r\n",
    "    def fullname(self):\r\n",
    "        return '{} {}' .format(self.first, self.last)  \r\n",
    "    \r\n",
    "    def apply_raise(self):\r\n",
    "        self.pay = int(self.pay * self.raise_amt)  \r\n",
    "\r\n",
    "class Developer(Employee):\r\n",
    "    raise_amt = 1.10\r\n",
    "\r\n",
    "dev_1 = Developer('Stacy', 'Wells', 50000)\r\n",
    "dev_2 = Developer('Test', 'User', 60000)\r\n",
    "\r\n",
    "#print(dev_1.email)\r\n",
    "#print(dev_2.email)\r\n",
    "\r\n",
    "print(dev_1.pay)\r\n",
    "dev_1.apply_raise()\r\n",
    "print(dev_1.pay)\r\n"
   ],
   "outputs": [
    {
     "output_type": "stream",
     "name": "stdout",
     "text": [
      "50000\n",
      "55000\n"
     ]
    }
   ],
   "metadata": {}
  },
  {
   "cell_type": "code",
   "execution_count": 47,
   "source": [
    "class Employee:\r\n",
    "\r\n",
    "    raise_amt = 1.04\r\n",
    "\r\n",
    "    def __init__(self, first, last, pay):\r\n",
    "        self.first = first\r\n",
    "        self.last = last\r\n",
    "        self.pay = pay\r\n",
    "        self.email = first +'.' + last + '@compay.com'\r\n",
    "\r\n",
    "    def fullname(self):\r\n",
    "        return '{} {}' .format(self.first, self.last)  \r\n",
    "    \r\n",
    "    def apply_raise(self):\r\n",
    "        self.pay = int(self.pay * self.raise_amt)  \r\n",
    "\r\n",
    "class Developer(Employee):\r\n",
    "    raise_amt = 1.10\r\n",
    "\r\n",
    "    def __init__(self, first, last, pay, prog_lang):\r\n",
    "        super().__init__(first, last, pay)\r\n",
    "        self.prog_lang = prog_lang\r\n",
    "\r\n",
    "dev_1 = Developer('Stacy', 'Wells', 50000, 'Python')\r\n",
    "dev_2 = Developer('Test', 'User', 60000, 'Java')\r\n",
    "\r\n",
    "print(dev_1.email)\r\n",
    "print(dev_1.prog_lang)\r\n",
    "\r\n",
    "#print(dev_1.pay)\r\n",
    "#dev_1.apply_raise()\r\n",
    "#print(dev_1.pay)\r\n"
   ],
   "outputs": [
    {
     "output_type": "stream",
     "name": "stdout",
     "text": [
      "Stacy.Wells@compay.com\n",
      "Python\n"
     ]
    }
   ],
   "metadata": {}
  },
  {
   "cell_type": "code",
   "execution_count": 54,
   "source": [
    "class Employee:\r\n",
    "\r\n",
    "    raise_amt = 1.04\r\n",
    "\r\n",
    "    def __init__(self, first, last, pay):\r\n",
    "        self.first = first\r\n",
    "        self.last = last\r\n",
    "        self.pay = pay\r\n",
    "        self.email = first +'.' + last + '@compay.com'\r\n",
    "\r\n",
    "    def fullname(self):\r\n",
    "        return '{} {}' .format(self.first, self.last)  \r\n",
    "    \r\n",
    "    def apply_raise(self):\r\n",
    "        self.pay = int(self.pay * self.raise_amt)  \r\n",
    "\r\n",
    "class Developer(Employee):\r\n",
    "    raise_amt = 1.10\r\n",
    "\r\n",
    "    def __init__(self, first, last, pay, prog_lang):\r\n",
    "        super().__init__(first, last, pay)\r\n",
    "        self.prog_lang = prog_lang\r\n",
    "\r\n",
    "class Manager (Employee):\r\n",
    "    def __init__(self, first, last, pay, employees=None):\r\n",
    "        super().__init__(first, last, pay)\r\n",
    "        if employees is None:\r\n",
    "            self.employees = []\r\n",
    "        else:\r\n",
    "            self.employees = employees \r\n",
    "\r\n",
    "    def add_emp(self, emp):\r\n",
    "        if emp not in self.employees:\r\n",
    "            self.employees.append(emp)\r\n",
    "\r\n",
    "    def remove_emp(self, emp):\r\n",
    "        if emp not in self.employees:\r\n",
    "            self.employees.remove(emp)\r\n",
    "\r\n",
    "    def print_emp(self):\r\n",
    "        for emp in self.employees:\r\n",
    "            print('--.', emp.fullname())\r\n",
    "\r\n",
    "\r\n",
    "\r\n",
    "dev_1 = Developer('Stacy', 'Wells', 50000, 'Python')\r\n",
    "dev_2 = Developer('Test', 'User', 60000, 'Java')\r\n",
    "\r\n",
    "mgr_1 = Manager('Sue', 'Smith' , 90000, [dev_1])\r\n",
    "\r\n",
    "print(mgr_1.email)\r\n",
    "\r\n",
    "mgr_1.add_emp(dev_2)\r\n",
    "mgr_1.remove_emp(dev_1)\r\n",
    "\r\n",
    "mgr_1.print_emp()\r\n",
    "\r\n",
    "#print(dev_1.email)\r\n",
    "#print(dev_1.prog_lang)\r\n",
    "\r\n",
    "#print(dev_1.pay)\r\n",
    "#dev_1.apply_raise()\r\n",
    "#print(dev_1.pay)\r\n"
   ],
   "outputs": [
    {
     "output_type": "stream",
     "name": "stdout",
     "text": [
      "Sue.Smith@compay.com\n",
      "--. Stacy Wells\n",
      "--. Test User\n"
     ]
    }
   ],
   "metadata": {}
  },
  {
   "cell_type": "code",
   "execution_count": 55,
   "source": [
    "class Employee:\r\n",
    "\r\n",
    "    raise_amt = 1.04\r\n",
    "\r\n",
    "    def __init__(self, first, last, pay):\r\n",
    "        self.first = first\r\n",
    "        self.last = last\r\n",
    "        self.pay = pay\r\n",
    "        self.email = first +'.' + last + '@compay.com'\r\n",
    "\r\n",
    "    def fullname(self):\r\n",
    "        return '{} {}' .format(self.first, self.last)  \r\n",
    "    \r\n",
    "    def apply_raise(self):\r\n",
    "        self.pay = int(self.pay * self.raise_amt)  \r\n",
    "\r\n",
    "class Developer(Employee):\r\n",
    "    raise_amt = 1.10\r\n",
    "\r\n",
    "    def __init__(self, first, last, pay, prog_lang):\r\n",
    "        super().__init__(first, last, pay)\r\n",
    "        self.prog_lang = prog_lang\r\n",
    "\r\n",
    "class Manager (Employee):\r\n",
    "    def __init__(self, first, last, pay, employees=None):\r\n",
    "        super().__init__(first, last, pay)\r\n",
    "        if employees is None:\r\n",
    "            self.employees = []\r\n",
    "        else:\r\n",
    "            self.employees = employees \r\n",
    "\r\n",
    "    def add_emp(self, emp):\r\n",
    "        if emp not in self.employees:\r\n",
    "            self.employees.append(emp)\r\n",
    "\r\n",
    "    def remove_emp(self, emp):\r\n",
    "        if emp not in self.employees:\r\n",
    "            self.employees.remove(emp)\r\n",
    "\r\n",
    "    def print_emp(self):\r\n",
    "        for emp in self.employees:\r\n",
    "            print('--.', emp.fullname())\r\n",
    "\r\n",
    "\r\n",
    "\r\n",
    "dev_1 = Developer('Stacy', 'Wells', 50000, 'Python')\r\n",
    "dev_2 = Developer('Test', 'User', 60000, 'Java')\r\n",
    "\r\n",
    "mgr_1 = Manager('Sue', 'Smith' , 90000, [dev_1])\r\n",
    "\r\n",
    "print(isinstance(mgr_1, Manager))"
   ],
   "outputs": [
    {
     "output_type": "stream",
     "name": "stdout",
     "text": [
      "True\n"
     ]
    }
   ],
   "metadata": {}
  },
  {
   "cell_type": "code",
   "execution_count": 64,
   "source": [
    "#Video start 5 \r\n",
    "\r\n",
    "class Employee:\r\n",
    "\r\n",
    "    raise_amount = 1.04\r\n",
    "\r\n",
    "    def __init__(self, first, last, pay):\r\n",
    "        self.first = first\r\n",
    "        self.last = last\r\n",
    "        self.pay = pay\r\n",
    "        self.email = first +'.' + last + '@compay.com'\r\n",
    "\r\n",
    "    def fullname(self):\r\n",
    "        return '{} {}' .format(self.first, self.last)  \r\n",
    "    \r\n",
    "    def apply_raise(self):\r\n",
    "        self.pay = int(self.pay * Employee.raise_amount) \r\n",
    "\r\n",
    "    def __repr__(self):\r\n",
    "        return \"Employee('{}', '{}', {})\".format(self.first, self.last, self.pay) \r\n",
    "\r\n",
    "    def __str__(self):\r\n",
    "        return '{} - {}'.format(self.fullname(), self.email)\r\n",
    "\r\n",
    "\r\n",
    "emp_1 = Employee('Stacy', 'Wells', 50000)\r\n",
    "emp_2 = Employee('Test', 'User', 60000)\r\n",
    "\r\n",
    "print(emp_1)\r\n",
    "\r\n",
    "#repr(emp_1)\r\n",
    "#str(emp_1)"
   ],
   "outputs": [
    {
     "output_type": "stream",
     "name": "stdout",
     "text": [
      "Stacy Wells - Stacy.Wells@compay.com\n"
     ]
    }
   ],
   "metadata": {}
  },
  {
   "cell_type": "code",
   "execution_count": 65,
   "source": [
    "class Employee:\r\n",
    "\r\n",
    "    raise_amount = 1.04\r\n",
    "\r\n",
    "    def __init__(self, first, last, pay):\r\n",
    "        self.first = first\r\n",
    "        self.last = last\r\n",
    "        self.pay = pay\r\n",
    "        self.email = first +'.' + last + '@compay.com'\r\n",
    "\r\n",
    "    def fullname(self):\r\n",
    "        return '{} {}' .format(self.first, self.last)  \r\n",
    "    \r\n",
    "    def apply_raise(self):\r\n",
    "        self.pay = int(self.pay * Employee.raise_amount) \r\n",
    "\r\n",
    "    def __repr__(self):\r\n",
    "        return \"Employee('{}', '{}', {})\".format(self.first, self.last, self.pay) \r\n",
    "\r\n",
    "    def __str__(self):\r\n",
    "        return '{} - {}'.format(self.fullname(), self.email)\r\n",
    "\r\n",
    "\r\n",
    "emp_1 = Employee('Stacy', 'Wells', 50000)\r\n",
    "emp_2 = Employee('Test', 'User', 60000)\r\n",
    "\r\n",
    "#print(emp_1)\r\n",
    "\r\n",
    "print(repr(emp_1))\r\n",
    "print(str(emp_1))"
   ],
   "outputs": [
    {
     "output_type": "stream",
     "name": "stdout",
     "text": [
      "Employee('Stacy', 'Wells', 50000)\n",
      "Stacy Wells - Stacy.Wells@compay.com\n"
     ]
    }
   ],
   "metadata": {}
  },
  {
   "cell_type": "code",
   "execution_count": 67,
   "source": [
    "class Employee:\r\n",
    "\r\n",
    "    raise_amount = 1.04\r\n",
    "\r\n",
    "    def __init__(self, first, last, pay):\r\n",
    "        self.first = first\r\n",
    "        self.last = last\r\n",
    "        self.pay = pay\r\n",
    "        self.email = first +'.' + last + '@compay.com'\r\n",
    "\r\n",
    "    def fullname(self):\r\n",
    "        return '{} {}' .format(self.first, self.last)  \r\n",
    "    \r\n",
    "    def apply_raise(self):\r\n",
    "        self.pay = int(self.pay * Employee.raise_amount) \r\n",
    "\r\n",
    "    def __repr__(self):\r\n",
    "        return \"Employee('{}', '{}', {})\".format(self.first, self.last, self.pay) \r\n",
    "\r\n",
    "    def __str__(self):\r\n",
    "        return '{} - {}'.format(self.fullname(), self.email)\r\n",
    "\r\n",
    "\r\n",
    "emp_1 = Employee('Stacy', 'Wells', 50000)\r\n",
    "emp_2 = Employee('Test', 'User', 60000)\r\n",
    "\r\n",
    "#print(emp_1)\r\n",
    "\r\n",
    "#print(repr(emp_1))\r\n",
    "#print(str(emp_1))\r\n",
    "\r\n",
    "print(emp_1.__repr__())\r\n",
    "print(emp_1.__str__())\r\n"
   ],
   "outputs": [
    {
     "output_type": "stream",
     "name": "stdout",
     "text": [
      "Employee('Stacy', 'Wells', 50000)\n",
      "Stacy Wells - Stacy.Wells@compay.com\n"
     ]
    }
   ],
   "metadata": {}
  },
  {
   "cell_type": "code",
   "execution_count": 69,
   "source": [
    "class Employee:\r\n",
    "\r\n",
    "    raise_amount = 1.04\r\n",
    "\r\n",
    "    def __init__(self, first, last, pay):\r\n",
    "        self.first = first\r\n",
    "        self.last = last\r\n",
    "        self.pay = pay\r\n",
    "        self.email = first +'.' + last + '@compay.com'\r\n",
    "\r\n",
    "    def fullname(self):\r\n",
    "        return '{} {}' .format(self.first, self.last)  \r\n",
    "    \r\n",
    "    def apply_raise(self):\r\n",
    "        self.pay = int(self.pay * Employee.raise_amount) \r\n",
    "\r\n",
    "    def __repr__(self):\r\n",
    "        return \"Employee('{}', '{}', {})\".format(self.first, self.last, self.pay) \r\n",
    "\r\n",
    "    def __str__(self):\r\n",
    "        return '{} - {}'.format(self.fullname(), self.email)\r\n",
    "\r\n",
    "\r\n",
    "emp_1 = Employee('Stacy', 'Wells', 50000)\r\n",
    "emp_2 = Employee('Test', 'User', 60000)\r\n",
    "\r\n",
    "#print(emp_1)\r\n",
    "\r\n",
    "#print(repr(emp_1))\r\n",
    "#print(str(emp_1))\r\n",
    "\r\n",
    "#print(emp_1.__repr__())\r\n",
    "#print(emp_1.__str__())\r\n",
    "\r\n",
    "print(1+2)\r\n",
    "\r\n",
    "print(int.__add__(1, 2))\r\n",
    "print(str.__add__('a', 'b'))\r\n"
   ],
   "outputs": [
    {
     "output_type": "stream",
     "name": "stdout",
     "text": [
      "3\n",
      "3\n",
      "ab\n"
     ]
    }
   ],
   "metadata": {}
  },
  {
   "cell_type": "code",
   "execution_count": 76,
   "source": [
    "class Employee:\r\n",
    "\r\n",
    "    raise_amount = 1.04\r\n",
    "\r\n",
    "    def __init__(self, first, last, pay):\r\n",
    "        self.first = first\r\n",
    "        self.last = last\r\n",
    "        self.pay = pay\r\n",
    "        self.email = first +'.' + last + '@compay.com'\r\n",
    "\r\n",
    "    def fullname(self):\r\n",
    "        return '{} {}' .format(self.first, self.last)  \r\n",
    "    \r\n",
    "    def apply_raise(self):\r\n",
    "        self.pay = int(self.pay * Employee.raise_amount) \r\n",
    "\r\n",
    "    def __repr__(self):\r\n",
    "        return \"Employee('{}', '{}', {})\".format(self.first, self.last, self.pay) \r\n",
    "\r\n",
    "    def __str__(self):\r\n",
    "        return '{} - {}'.format(self.fullname(), self.email)\r\n",
    "    \r\n",
    "    def __add__(self, other):\r\n",
    "        return self.pay + other.pay\r\n",
    "    \r\n",
    "    def __len__(self):\r\n",
    "        return len(self.fullname())\r\n",
    "\r\n",
    "\r\n",
    "emp_1 = Employee('Stacy', 'Wells', 50000)\r\n",
    "emp_2 = Employee('Test', 'User', 60000)\r\n",
    "\r\n",
    "print(len(emp_1))\r\n",
    "\r\n",
    "\r\n",
    "#print(len('test'))\r\n",
    "\r\n",
    "#print('test'.__len__())\r\n",
    "\r\n",
    "\r\n",
    "\r\n"
   ],
   "outputs": [
    {
     "output_type": "stream",
     "name": "stdout",
     "text": [
      "11\n"
     ]
    }
   ],
   "metadata": {}
  },
  {
   "cell_type": "code",
   "execution_count": 78,
   "source": [
    "# Video 6 start \r\n",
    "\r\n",
    "class Employee:\r\n",
    "    def __init__(self, first, last):\r\n",
    "        self.first = first\r\n",
    "        self.last = last\r\n",
    "        self.email = first +'.' + last + '@compay.com'\r\n",
    "\r\n",
    "    def fullname(self):\r\n",
    "        return '{} {}' .format(self.first, self.last)    \r\n",
    "\r\n",
    "emp_1 = Employee('Stacy', 'Wells')\r\n",
    "\r\n",
    "emp_1.first = 'Jim'\r\n",
    "\r\n",
    "print(emp_1.first) \r\n",
    "print(emp_2.email)\r\n",
    "print(emp_1.fullname())\r\n"
   ],
   "outputs": [
    {
     "output_type": "stream",
     "name": "stdout",
     "text": [
      "Jim\n",
      "Test.User@compay.com\n",
      "Jim Wells\n"
     ]
    }
   ],
   "metadata": {}
  },
  {
   "cell_type": "code",
   "execution_count": 85,
   "source": [
    "class Employee:\r\n",
    "    def __init__(self, first, last):\r\n",
    "        self.first = first\r\n",
    "        self.last = last\r\n",
    "\r\n",
    "    @property\r\n",
    "    def email(self):\r\n",
    "        return '{} {}@email.com'.format(self.first, self.last) \r\n",
    "\r\n",
    "\r\n",
    "    @property    \r\n",
    "    def fullname(self):\r\n",
    "        return '{} {}'.format(self.first, self.last)  \r\n",
    "\r\n",
    "    @fullname.setter\r\n",
    "    def fullname(self, name):\r\n",
    "        first, last = name.split(' ')  \r\n",
    "        self.first = first\r\n",
    "        self.last = last \r\n",
    "\r\n",
    "emp_1 = Employee('Stacy', 'Wells')\r\n",
    "\r\n",
    "emp_1.fullname = 'Corey Schafer'\r\n",
    "\r\n",
    "#emp_1.first = 'Jim'\r\n",
    "\r\n",
    "print(emp_1.first) \r\n",
    "print(emp_2.email)\r\n",
    "print(emp_1.fullname)"
   ],
   "outputs": [
    {
     "output_type": "stream",
     "name": "stdout",
     "text": [
      "Corey\n",
      "Test.User@compay.com\n",
      "Corey Schafer\n"
     ]
    }
   ],
   "metadata": {}
  },
  {
   "cell_type": "code",
   "execution_count": 90,
   "source": [
    "class Employee:\r\n",
    "    def __init__(self, first, last):\r\n",
    "        self.first = first\r\n",
    "        self.last = last\r\n",
    "\r\n",
    "    @property\r\n",
    "    def email(self):\r\n",
    "        return '{} {}@email.com'.format(self.first, self.last) \r\n",
    "\r\n",
    "\r\n",
    "    @property    \r\n",
    "    def fullname(self):\r\n",
    "        return '{} {}'.format(self.first, self.last)  \r\n",
    "\r\n",
    "    @fullname.setter\r\n",
    "    def fullname(self, name):\r\n",
    "        first, last = name.split(' ')  \r\n",
    "        self.first = first\r\n",
    "        self.last = last \r\n",
    "\r\n",
    "    @fullname.deleter\r\n",
    "    def fullname(self):\r\n",
    "        print('Delete Name!') \r\n",
    "        self.first = None\r\n",
    "        self.last = None \r\n",
    "\r\n",
    "emp_1 = Employee('Stacy', 'Wells')\r\n",
    "\r\n",
    "emp_1.fullname = 'Corey Schafer'\r\n",
    "\r\n",
    "#emp_1.first = 'Jim'\r\n",
    "\r\n",
    "print(emp_1.first) \r\n",
    "print(emp_2.email)\r\n",
    "print(emp_1.fullname)\r\n",
    "\r\n",
    "del emp_1.fullname"
   ],
   "outputs": [
    {
     "output_type": "stream",
     "name": "stdout",
     "text": [
      "Corey\n",
      "Test.User@compay.com\n",
      "Corey Schafer\n",
      "Delete Name!\n"
     ]
    }
   ],
   "metadata": {}
  }
 ],
 "metadata": {
  "orig_nbformat": 4,
  "language_info": {
   "name": "python",
   "version": "3.8.8",
   "mimetype": "text/x-python",
   "codemirror_mode": {
    "name": "ipython",
    "version": 3
   },
   "pygments_lexer": "ipython3",
   "nbconvert_exporter": "python",
   "file_extension": ".py"
  },
  "kernelspec": {
   "name": "python3",
   "display_name": "Python 3.8.8 64-bit ('base': conda)"
  },
  "interpreter": {
   "hash": "f8e1fe0df290e6cb296008413e64546b07c68c1223310af533a63f1548876c7f"
  }
 },
 "nbformat": 4,
 "nbformat_minor": 2
}